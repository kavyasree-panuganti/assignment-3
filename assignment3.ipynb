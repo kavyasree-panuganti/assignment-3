{
 "cells": [
  {
   "cell_type": "markdown",
   "id": "8175131c",
   "metadata": {},
   "source": [
    "# Write a Python function to sum all the numbers in a list.\n",
    "\n",
    "\n"
   ]
  },
  {
   "cell_type": "code",
   "execution_count": 2,
   "id": "79447cb3",
   "metadata": {},
   "outputs": [
    {
     "name": "stdout",
     "output_type": "stream",
     "text": [
      "15\n"
     ]
    }
   ],
   "source": [
    "def sum(list):\n",
    "    s=0\n",
    "    for i in list:\n",
    "        s=s+i\n",
    "    return s\n",
    "    \n",
    "    \n",
    "print(sum([1,2,3,4,5]))\n"
   ]
  },
  {
   "cell_type": "markdown",
   "id": "8f3174f8",
   "metadata": {},
   "source": [
    "# Write a Python program to reverse a string."
   ]
  },
  {
   "cell_type": "code",
   "execution_count": 6,
   "id": "27dd6ae9",
   "metadata": {},
   "outputs": [
    {
     "data": {
      "text/plain": [
       "'dcba4321'"
      ]
     },
     "execution_count": 6,
     "metadata": {},
     "output_type": "execute_result"
    }
   ],
   "source": [
    "def stri(a):\n",
    "    rev=reversed(a)\n",
    "    rev_string=\"\".join(rev)\n",
    "    return rev_string\n",
    "stri(\"1234abcd\")"
   ]
  },
  {
   "cell_type": "markdown",
   "id": "2253b732",
   "metadata": {},
   "source": [
    "# Write a Python function that accepts a string and calculate the number of upper case letters and lower case letters.\n",
    "\n"
   ]
  },
  {
   "cell_type": "code",
   "execution_count": null,
   "id": "149359b7",
   "metadata": {},
   "outputs": [],
   "source": [
    "sentence ='The quick Brow Fox'\n",
    "upper=0\n",
    "lower=0\n",
    "for i in sentence:\n",
    "    if (i.islower()):\n",
    "        lower=lower+1\n",
    "    elif (i.isupper()):\n",
    "        upper=upper+1\n",
    "print(\"The lower case letters:\",lower)\n",
    "print(\"The upper case letters:\",upper)"
   ]
  }
 ],
 "metadata": {
  "kernelspec": {
   "display_name": "Python 3 (ipykernel)",
   "language": "python",
   "name": "python3"
  },
  "language_info": {
   "codemirror_mode": {
    "name": "ipython",
    "version": 3
   },
   "file_extension": ".py",
   "mimetype": "text/x-python",
   "name": "python",
   "nbconvert_exporter": "python",
   "pygments_lexer": "ipython3",
   "version": "3.8.2"
  }
 },
 "nbformat": 4,
 "nbformat_minor": 5
}
